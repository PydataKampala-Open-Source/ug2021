{
 "cells": [
  {
   "cell_type": "code",
   "execution_count": 1,
   "id": "970b4738-c60f-4125-8f6b-b3b3457c9085",
   "metadata": {},
   "outputs": [],
   "source": [
    "from ug2021.data import results"
   ]
  },
  {
   "cell_type": "code",
   "execution_count": 2,
   "id": "cda88576-d127-419d-ab9e-44c0bba7dc6d",
   "metadata": {},
   "outputs": [
    {
     "data": {
      "text/plain": [
       "('polling_station_results',\n",
       " 'stations_wide',\n",
       " 'parishes_wide',\n",
       " 'subcounties_wide',\n",
       " 'constituencies_wide',\n",
       " 'districts_wide',\n",
       " 'national_wide',\n",
       " 'stations_long',\n",
       " 'parishes_long',\n",
       " 'subcounties_long',\n",
       " 'constituencies_long',\n",
       " 'districts_long',\n",
       " 'national_long')"
      ]
     },
     "execution_count": 2,
     "metadata": {},
     "output_type": "execute_result"
    }
   ],
   "source": [
    "results.__all__"
   ]
  },
  {
   "cell_type": "code",
   "execution_count": 3,
   "id": "d9554167-910a-44f6-9217-279a25fbc4ea",
   "metadata": {},
   "outputs": [
    {
     "data": {
      "text/html": [
       "<div><style>\n",
       ".dataframe > thead > tr,\n",
       ".dataframe > tbody > tr {\n",
       "  text-align: right;\n",
       "  white-space: pre-wrap;\n",
       "}\n",
       "</style>\n",
       "<small>shape: (5, 20)</small><table border=\"1\" class=\"dataframe\"><thead><tr><th>district</th><th>constituency</th><th>subcounty</th><th>parish</th><th>station</th><th>registered</th><th>Amuriat</th><th>Kabuleta</th><th>Kalembe</th><th>Katumba</th><th>Kyagulanyi</th><th>Mao</th><th>Mayambala</th><th>Muntu</th><th>Mwesigye</th><th>Tumukunde</th><th>Museveni</th><th>valid</th><th>invalid</th><th>total</th></tr><tr><td>str</td><td>str</td><td>str</td><td>str</td><td>str</td><td>i64</td><td>i64</td><td>i64</td><td>i64</td><td>i64</td><td>i64</td><td>i64</td><td>i64</td><td>i64</td><td>i64</td><td>i64</td><td>i64</td><td>i64</td><td>i64</td><td>i64</td></tr></thead><tbody><tr><td>&quot;Kapelebyong&quot;</td><td>&quot;Kapelebyong County&quot;</td><td>&quot;Acowa&quot;</td><td>&quot;Acowa&quot;</td><td>&quot;01-Obur Pri. Sch.&quot;</td><td>210</td><td>34</td><td>1</td><td>0</td><td>0</td><td>12</td><td>0</td><td>0</td><td>0</td><td>1</td><td>1</td><td>91</td><td>140</td><td>28</td><td>168</td></tr><tr><td>&quot;Kapelebyong&quot;</td><td>&quot;Kapelebyong County&quot;</td><td>&quot;Acowa&quot;</td><td>&quot;Acowa&quot;</td><td>&quot;02-Adodoi Pri. Sch.&quot;</td><td>462</td><td>29</td><td>1</td><td>2</td><td>0</td><td>7</td><td>0</td><td>1</td><td>1</td><td>2</td><td>0</td><td>255</td><td>298</td><td>19</td><td>317</td></tr><tr><td>&quot;Kapelebyong&quot;</td><td>&quot;Kapelebyong County&quot;</td><td>&quot;Acowa&quot;</td><td>&quot;Acowa&quot;</td><td>&quot;05-Adodoi East&quot;</td><td>322</td><td>32</td><td>0</td><td>2</td><td>0</td><td>5</td><td>1</td><td>0</td><td>0</td><td>1</td><td>0</td><td>174</td><td>215</td><td>10</td><td>225</td></tr><tr><td>&quot;Kapelebyong&quot;</td><td>&quot;Kapelebyong County&quot;</td><td>&quot;Acowa&quot;</td><td>&quot;Acowa&quot;</td><td>&quot;06-Obur East&quot;</td><td>393</td><td>47</td><td>0</td><td>0</td><td>0</td><td>12</td><td>0</td><td>0</td><td>0</td><td>1</td><td>3</td><td>224</td><td>287</td><td>21</td><td>308</td></tr><tr><td>&quot;Kapelebyong&quot;</td><td>&quot;Kapelebyong County&quot;</td><td>&quot;Acowa&quot;</td><td>&quot;Akum&quot;</td><td>&quot;01-Ajeleik Pri Sch&quot;</td><td>450</td><td>83</td><td>2</td><td>1</td><td>0</td><td>10</td><td>0</td><td>0</td><td>1</td><td>0</td><td>3</td><td>183</td><td>283</td><td>16</td><td>299</td></tr></tbody></table></div>"
      ],
      "text/plain": [
       "shape: (5, 20)\n",
       "┌─────────────┬────────────────────┬───────────┬────────┬───┬──────────┬───────┬─────────┬───────┐\n",
       "│ district    ┆ constituency       ┆ subcounty ┆ parish ┆ … ┆ Museveni ┆ valid ┆ invalid ┆ total │\n",
       "│ ---         ┆ ---                ┆ ---       ┆ ---    ┆   ┆ ---      ┆ ---   ┆ ---     ┆ ---   │\n",
       "│ str         ┆ str                ┆ str       ┆ str    ┆   ┆ i64      ┆ i64   ┆ i64     ┆ i64   │\n",
       "╞═════════════╪════════════════════╪═══════════╪════════╪═══╪══════════╪═══════╪═════════╪═══════╡\n",
       "│ Kapelebyong ┆ Kapelebyong County ┆ Acowa     ┆ Acowa  ┆ … ┆ 91       ┆ 140   ┆ 28      ┆ 168   │\n",
       "│ Kapelebyong ┆ Kapelebyong County ┆ Acowa     ┆ Acowa  ┆ … ┆ 255      ┆ 298   ┆ 19      ┆ 317   │\n",
       "│ Kapelebyong ┆ Kapelebyong County ┆ Acowa     ┆ Acowa  ┆ … ┆ 174      ┆ 215   ┆ 10      ┆ 225   │\n",
       "│ Kapelebyong ┆ Kapelebyong County ┆ Acowa     ┆ Acowa  ┆ … ┆ 224      ┆ 287   ┆ 21      ┆ 308   │\n",
       "│ Kapelebyong ┆ Kapelebyong County ┆ Acowa     ┆ Akum   ┆ … ┆ 183      ┆ 283   ┆ 16      ┆ 299   │\n",
       "└─────────────┴────────────────────┴───────────┴────────┴───┴──────────┴───────┴─────────┴───────┘"
      ]
     },
     "execution_count": 3,
     "metadata": {},
     "output_type": "execute_result"
    }
   ],
   "source": [
    "results.polling_station_results.head()"
   ]
  },
  {
   "cell_type": "code",
   "execution_count": 4,
   "id": "89375ad4-8af5-4bbb-8d81-b3a788d1c7ed",
   "metadata": {},
   "outputs": [
    {
     "data": {
      "text/html": [
       "<div><style>\n",
       ".dataframe > thead > tr,\n",
       ".dataframe > tbody > tr {\n",
       "  text-align: right;\n",
       "  white-space: pre-wrap;\n",
       "}\n",
       "</style>\n",
       "<small>shape: (5, 22)</small><table border=\"1\" class=\"dataframe\"><thead><tr><th>district</th><th>constituency</th><th>subcounty</th><th>parish</th><th>station</th><th>registered</th><th>Amuriat</th><th>Kabuleta</th><th>Kalembe</th><th>Katumba</th><th>Kyagulanyi</th><th>Mao</th><th>Mayambala</th><th>Muntu</th><th>Mwesigye</th><th>Tumukunde</th><th>Museveni</th><th>valid</th><th>invalid</th><th>total</th><th>turnout</th><th>winner</th></tr><tr><td>str</td><td>str</td><td>str</td><td>str</td><td>str</td><td>i64</td><td>i64</td><td>i64</td><td>i64</td><td>i64</td><td>i64</td><td>i64</td><td>i64</td><td>i64</td><td>i64</td><td>i64</td><td>i64</td><td>i64</td><td>i64</td><td>i64</td><td>f64</td><td>str</td></tr></thead><tbody><tr><td>&quot;Abim&quot;</td><td>&quot;Labwor County&quot;</td><td>&quot;Abim&quot;</td><td>&quot;Abongepach&quot;</td><td>&quot;01-Arembwola Health Centre II&quot;</td><td>322</td><td>4</td><td>1</td><td>2</td><td>0</td><td>37</td><td>0</td><td>0</td><td>0</td><td>0</td><td>2</td><td>133</td><td>179</td><td>16</td><td>195</td><td>60.559006</td><td>&quot;Museveni&quot;</td></tr><tr><td>&quot;Abim&quot;</td><td>&quot;Labwor County&quot;</td><td>&quot;Abim&quot;</td><td>&quot;Adwal&quot;</td><td>&quot;01-Omunga Barracks&quot;</td><td>114</td><td>3</td><td>2</td><td>0</td><td>2</td><td>6</td><td>2</td><td>0</td><td>0</td><td>0</td><td>1</td><td>76</td><td>92</td><td>1</td><td>93</td><td>81.578947</td><td>&quot;Museveni&quot;</td></tr><tr><td>&quot;Abim&quot;</td><td>&quot;Labwor County&quot;</td><td>&quot;Abim&quot;</td><td>&quot;Aninata&quot;</td><td>&quot;01-Aninata Primary School&quot;</td><td>540</td><td>4</td><td>0</td><td>1</td><td>2</td><td>38</td><td>0</td><td>0</td><td>2</td><td>0</td><td>1</td><td>355</td><td>403</td><td>7</td><td>410</td><td>75.925926</td><td>&quot;Museveni&quot;</td></tr><tr><td>&quot;Abim&quot;</td><td>&quot;Labwor County&quot;</td><td>&quot;Abim&quot;</td><td>&quot;Arembwola&quot;</td><td>&quot;01-Arembwola Pri.Sch.&quot;</td><td>188</td><td>2</td><td>0</td><td>0</td><td>0</td><td>27</td><td>0</td><td>0</td><td>0</td><td>0</td><td>0</td><td>86</td><td>115</td><td>3</td><td>118</td><td>62.765957</td><td>&quot;Museveni&quot;</td></tr><tr><td>&quot;Abim&quot;</td><td>&quot;Labwor County&quot;</td><td>&quot;Abim&quot;</td><td>&quot;Arembwola&quot;</td><td>&quot;02-Oyompolo&quot;</td><td>175</td><td>3</td><td>1</td><td>0</td><td>0</td><td>26</td><td>2</td><td>0</td><td>4</td><td>0</td><td>1</td><td>81</td><td>118</td><td>9</td><td>127</td><td>72.571429</td><td>&quot;Museveni&quot;</td></tr></tbody></table></div>"
      ],
      "text/plain": [
       "shape: (5, 22)\n",
       "┌──────────┬───────────────┬───────────┬────────────┬───┬─────────┬───────┬───────────┬──────────┐\n",
       "│ district ┆ constituency  ┆ subcounty ┆ parish     ┆ … ┆ invalid ┆ total ┆ turnout   ┆ winner   │\n",
       "│ ---      ┆ ---           ┆ ---       ┆ ---        ┆   ┆ ---     ┆ ---   ┆ ---       ┆ ---      │\n",
       "│ str      ┆ str           ┆ str       ┆ str        ┆   ┆ i64     ┆ i64   ┆ f64       ┆ str      │\n",
       "╞══════════╪═══════════════╪═══════════╪════════════╪═══╪═════════╪═══════╪═══════════╪══════════╡\n",
       "│ Abim     ┆ Labwor County ┆ Abim      ┆ Abongepach ┆ … ┆ 16      ┆ 195   ┆ 60.559006 ┆ Museveni │\n",
       "│ Abim     ┆ Labwor County ┆ Abim      ┆ Adwal      ┆ … ┆ 1       ┆ 93    ┆ 81.578947 ┆ Museveni │\n",
       "│ Abim     ┆ Labwor County ┆ Abim      ┆ Aninata    ┆ … ┆ 7       ┆ 410   ┆ 75.925926 ┆ Museveni │\n",
       "│ Abim     ┆ Labwor County ┆ Abim      ┆ Arembwola  ┆ … ┆ 3       ┆ 118   ┆ 62.765957 ┆ Museveni │\n",
       "│ Abim     ┆ Labwor County ┆ Abim      ┆ Arembwola  ┆ … ┆ 9       ┆ 127   ┆ 72.571429 ┆ Museveni │\n",
       "└──────────┴───────────────┴───────────┴────────────┴───┴─────────┴───────┴───────────┴──────────┘"
      ]
     },
     "execution_count": 4,
     "metadata": {},
     "output_type": "execute_result"
    }
   ],
   "source": [
    "results.stations_wide.head()"
   ]
  },
  {
   "cell_type": "code",
   "execution_count": 5,
   "id": "79453de9-b039-4530-977a-fe4818c8057f",
   "metadata": {},
   "outputs": [
    {
     "data": {
      "text/html": [
       "<div><style>\n",
       ".dataframe > thead > tr,\n",
       ".dataframe > tbody > tr {\n",
       "  text-align: right;\n",
       "  white-space: pre-wrap;\n",
       "}\n",
       "</style>\n",
       "<small>shape: (5, 14)</small><table border=\"1\" class=\"dataframe\"><thead><tr><th>district</th><th>subcounty</th><th>station</th><th>constituency</th><th>parish</th><th>registered</th><th>valid</th><th>invalid</th><th>total</th><th>turnout</th><th>candidate</th><th>votes</th><th>won</th><th>rank</th></tr><tr><td>str</td><td>str</td><td>str</td><td>str</td><td>str</td><td>i64</td><td>i64</td><td>i64</td><td>i64</td><td>f64</td><td>str</td><td>i64</td><td>bool</td><td>i64</td></tr></thead><tbody><tr><td>&quot;Abim&quot;</td><td>&quot;Abim&quot;</td><td>&quot;01-Arembwola Health Centre II&quot;</td><td>&quot;Labwor County&quot;</td><td>&quot;Abongepach&quot;</td><td>322</td><td>179</td><td>16</td><td>195</td><td>60.559006</td><td>&quot;Amuriat&quot;</td><td>4</td><td>false</td><td>3</td></tr><tr><td>&quot;Abim&quot;</td><td>&quot;Abim&quot;</td><td>&quot;01-Omunga Barracks&quot;</td><td>&quot;Labwor County&quot;</td><td>&quot;Adwal&quot;</td><td>114</td><td>92</td><td>1</td><td>93</td><td>81.578947</td><td>&quot;Amuriat&quot;</td><td>3</td><td>false</td><td>3</td></tr><tr><td>&quot;Abim&quot;</td><td>&quot;Abim&quot;</td><td>&quot;01-Aninata Primary School&quot;</td><td>&quot;Labwor County&quot;</td><td>&quot;Aninata&quot;</td><td>540</td><td>403</td><td>7</td><td>410</td><td>75.925926</td><td>&quot;Amuriat&quot;</td><td>4</td><td>false</td><td>3</td></tr><tr><td>&quot;Abim&quot;</td><td>&quot;Abim&quot;</td><td>&quot;01-Arembwola Pri.Sch.&quot;</td><td>&quot;Labwor County&quot;</td><td>&quot;Arembwola&quot;</td><td>188</td><td>115</td><td>3</td><td>118</td><td>62.765957</td><td>&quot;Amuriat&quot;</td><td>2</td><td>false</td><td>3</td></tr><tr><td>&quot;Abim&quot;</td><td>&quot;Abim&quot;</td><td>&quot;02-Oyompolo&quot;</td><td>&quot;Labwor County&quot;</td><td>&quot;Arembwola&quot;</td><td>175</td><td>118</td><td>9</td><td>127</td><td>72.571429</td><td>&quot;Amuriat&quot;</td><td>3</td><td>false</td><td>4</td></tr></tbody></table></div>"
      ],
      "text/plain": [
       "shape: (5, 14)\n",
       "┌──────────┬───────────┬────────────────────┬───────────────┬───┬───────────┬───────┬───────┬──────┐\n",
       "│ district ┆ subcounty ┆ station            ┆ constituency  ┆ … ┆ candidate ┆ votes ┆ won   ┆ rank │\n",
       "│ ---      ┆ ---       ┆ ---                ┆ ---           ┆   ┆ ---       ┆ ---   ┆ ---   ┆ ---  │\n",
       "│ str      ┆ str       ┆ str                ┆ str           ┆   ┆ str       ┆ i64   ┆ bool  ┆ i64  │\n",
       "╞══════════╪═══════════╪════════════════════╪═══════════════╪═══╪═══════════╪═══════╪═══════╪══════╡\n",
       "│ Abim     ┆ Abim      ┆ 01-Arembwola       ┆ Labwor County ┆ … ┆ Amuriat   ┆ 4     ┆ false ┆ 3    │\n",
       "│          ┆           ┆ Health Centre II   ┆               ┆   ┆           ┆       ┆       ┆      │\n",
       "│ Abim     ┆ Abim      ┆ 01-Omunga Barracks ┆ Labwor County ┆ … ┆ Amuriat   ┆ 3     ┆ false ┆ 3    │\n",
       "│ Abim     ┆ Abim      ┆ 01-Aninata Primary ┆ Labwor County ┆ … ┆ Amuriat   ┆ 4     ┆ false ┆ 3    │\n",
       "│          ┆           ┆ School             ┆               ┆   ┆           ┆       ┆       ┆      │\n",
       "│ Abim     ┆ Abim      ┆ 01-Arembwola       ┆ Labwor County ┆ … ┆ Amuriat   ┆ 2     ┆ false ┆ 3    │\n",
       "│          ┆           ┆ Pri.Sch.           ┆               ┆   ┆           ┆       ┆       ┆      │\n",
       "│ Abim     ┆ Abim      ┆ 02-Oyompolo        ┆ Labwor County ┆ … ┆ Amuriat   ┆ 3     ┆ false ┆ 4    │\n",
       "└──────────┴───────────┴────────────────────┴───────────────┴───┴───────────┴───────┴───────┴──────┘"
      ]
     },
     "execution_count": 5,
     "metadata": {},
     "output_type": "execute_result"
    }
   ],
   "source": [
    "results.stations_long.head()"
   ]
  },
  {
   "cell_type": "code",
   "execution_count": 6,
   "id": "45a912f1-6240-42d0-89be-1c2745af055b",
   "metadata": {},
   "outputs": [
    {
     "data": {
      "text/html": [
       "<div><style>\n",
       ".dataframe > thead > tr,\n",
       ".dataframe > tbody > tr {\n",
       "  text-align: right;\n",
       "  white-space: pre-wrap;\n",
       "}\n",
       "</style>\n",
       "<small>shape: (5, 21)</small><table border=\"1\" class=\"dataframe\"><thead><tr><th>district</th><th>constituency</th><th>subcounty</th><th>parish</th><th>Amuriat</th><th>Kabuleta</th><th>Kalembe</th><th>Katumba</th><th>Kyagulanyi</th><th>Mao</th><th>Mayambala</th><th>Muntu</th><th>Mwesigye</th><th>Tumukunde</th><th>Museveni</th><th>registered</th><th>valid</th><th>invalid</th><th>total</th><th>turnout</th><th>winner</th></tr><tr><td>str</td><td>str</td><td>str</td><td>str</td><td>i64</td><td>i64</td><td>i64</td><td>i64</td><td>i64</td><td>i64</td><td>i64</td><td>i64</td><td>i64</td><td>i64</td><td>i64</td><td>i64</td><td>i64</td><td>i64</td><td>i64</td><td>f64</td><td>str</td></tr></thead><tbody><tr><td>&quot;Abim&quot;</td><td>&quot;Labwor County&quot;</td><td>&quot;Abim&quot;</td><td>&quot;Abongepach&quot;</td><td>4</td><td>1</td><td>2</td><td>0</td><td>37</td><td>0</td><td>0</td><td>0</td><td>0</td><td>2</td><td>133</td><td>322</td><td>179</td><td>16</td><td>195</td><td>60.559006</td><td>&quot;Museveni&quot;</td></tr><tr><td>&quot;Abim&quot;</td><td>&quot;Labwor County&quot;</td><td>&quot;Abim&quot;</td><td>&quot;Adwal&quot;</td><td>3</td><td>2</td><td>0</td><td>2</td><td>6</td><td>2</td><td>0</td><td>0</td><td>0</td><td>1</td><td>76</td><td>114</td><td>92</td><td>1</td><td>93</td><td>81.578947</td><td>&quot;Museveni&quot;</td></tr><tr><td>&quot;Abim&quot;</td><td>&quot;Labwor County&quot;</td><td>&quot;Abim&quot;</td><td>&quot;Aninata&quot;</td><td>4</td><td>0</td><td>1</td><td>2</td><td>38</td><td>0</td><td>0</td><td>2</td><td>0</td><td>1</td><td>355</td><td>540</td><td>403</td><td>7</td><td>410</td><td>75.925926</td><td>&quot;Museveni&quot;</td></tr><tr><td>&quot;Abim&quot;</td><td>&quot;Labwor County&quot;</td><td>&quot;Abim&quot;</td><td>&quot;Arembwola&quot;</td><td>5</td><td>1</td><td>0</td><td>0</td><td>53</td><td>2</td><td>0</td><td>4</td><td>0</td><td>1</td><td>167</td><td>363</td><td>233</td><td>12</td><td>245</td><td>67.493113</td><td>&quot;Museveni&quot;</td></tr><tr><td>&quot;Abim&quot;</td><td>&quot;Labwor County&quot;</td><td>&quot;Abim&quot;</td><td>&quot;Kanu&quot;</td><td>13</td><td>0</td><td>2</td><td>1</td><td>55</td><td>4</td><td>0</td><td>0</td><td>0</td><td>3</td><td>270</td><td>531</td><td>348</td><td>17</td><td>365</td><td>68.73823</td><td>&quot;Museveni&quot;</td></tr></tbody></table></div>"
      ],
      "text/plain": [
       "shape: (5, 21)\n",
       "┌──────────┬───────────────┬───────────┬────────────┬───┬─────────┬───────┬───────────┬──────────┐\n",
       "│ district ┆ constituency  ┆ subcounty ┆ parish     ┆ … ┆ invalid ┆ total ┆ turnout   ┆ winner   │\n",
       "│ ---      ┆ ---           ┆ ---       ┆ ---        ┆   ┆ ---     ┆ ---   ┆ ---       ┆ ---      │\n",
       "│ str      ┆ str           ┆ str       ┆ str        ┆   ┆ i64     ┆ i64   ┆ f64       ┆ str      │\n",
       "╞══════════╪═══════════════╪═══════════╪════════════╪═══╪═════════╪═══════╪═══════════╪══════════╡\n",
       "│ Abim     ┆ Labwor County ┆ Abim      ┆ Abongepach ┆ … ┆ 16      ┆ 195   ┆ 60.559006 ┆ Museveni │\n",
       "│ Abim     ┆ Labwor County ┆ Abim      ┆ Adwal      ┆ … ┆ 1       ┆ 93    ┆ 81.578947 ┆ Museveni │\n",
       "│ Abim     ┆ Labwor County ┆ Abim      ┆ Aninata    ┆ … ┆ 7       ┆ 410   ┆ 75.925926 ┆ Museveni │\n",
       "│ Abim     ┆ Labwor County ┆ Abim      ┆ Arembwola  ┆ … ┆ 12      ┆ 245   ┆ 67.493113 ┆ Museveni │\n",
       "│ Abim     ┆ Labwor County ┆ Abim      ┆ Kanu       ┆ … ┆ 17      ┆ 365   ┆ 68.73823  ┆ Museveni │\n",
       "└──────────┴───────────────┴───────────┴────────────┴───┴─────────┴───────┴───────────┴──────────┘"
      ]
     },
     "execution_count": 6,
     "metadata": {},
     "output_type": "execute_result"
    }
   ],
   "source": [
    "results.parishes_wide.head()"
   ]
  },
  {
   "cell_type": "code",
   "execution_count": 7,
   "id": "f1bcf907-ed08-4c2d-961c-76685c5c57df",
   "metadata": {},
   "outputs": [
    {
     "data": {
      "text/html": [
       "<div><style>\n",
       ".dataframe > thead > tr,\n",
       ".dataframe > tbody > tr {\n",
       "  text-align: right;\n",
       "  white-space: pre-wrap;\n",
       "}\n",
       "</style>\n",
       "<small>shape: (5, 13)</small><table border=\"1\" class=\"dataframe\"><thead><tr><th>district</th><th>constituency</th><th>parish</th><th>subcounty</th><th>registered</th><th>valid</th><th>invalid</th><th>total</th><th>turnout</th><th>candidate</th><th>votes</th><th>won</th><th>rank</th></tr><tr><td>str</td><td>str</td><td>str</td><td>str</td><td>i64</td><td>i64</td><td>i64</td><td>i64</td><td>f64</td><td>str</td><td>i64</td><td>bool</td><td>i64</td></tr></thead><tbody><tr><td>&quot;Abim&quot;</td><td>&quot;Labwor County&quot;</td><td>&quot;Abongepach&quot;</td><td>&quot;Abim&quot;</td><td>322</td><td>179</td><td>16</td><td>195</td><td>60.559006</td><td>&quot;Amuriat&quot;</td><td>4</td><td>false</td><td>3</td></tr><tr><td>&quot;Abim&quot;</td><td>&quot;Labwor County&quot;</td><td>&quot;Adwal&quot;</td><td>&quot;Abim&quot;</td><td>114</td><td>92</td><td>1</td><td>93</td><td>81.578947</td><td>&quot;Amuriat&quot;</td><td>3</td><td>false</td><td>3</td></tr><tr><td>&quot;Abim&quot;</td><td>&quot;Labwor County&quot;</td><td>&quot;Aninata&quot;</td><td>&quot;Abim&quot;</td><td>540</td><td>403</td><td>7</td><td>410</td><td>75.925926</td><td>&quot;Amuriat&quot;</td><td>4</td><td>false</td><td>3</td></tr><tr><td>&quot;Abim&quot;</td><td>&quot;Labwor County&quot;</td><td>&quot;Arembwola&quot;</td><td>&quot;Abim&quot;</td><td>363</td><td>233</td><td>12</td><td>245</td><td>67.493113</td><td>&quot;Amuriat&quot;</td><td>5</td><td>false</td><td>3</td></tr><tr><td>&quot;Abim&quot;</td><td>&quot;Labwor County&quot;</td><td>&quot;Kanu&quot;</td><td>&quot;Abim&quot;</td><td>531</td><td>348</td><td>17</td><td>365</td><td>68.73823</td><td>&quot;Amuriat&quot;</td><td>13</td><td>false</td><td>3</td></tr></tbody></table></div>"
      ],
      "text/plain": [
       "shape: (5, 13)\n",
       "┌──────────┬───────────────┬────────────┬───────────┬───┬───────────┬───────┬───────┬──────┐\n",
       "│ district ┆ constituency  ┆ parish     ┆ subcounty ┆ … ┆ candidate ┆ votes ┆ won   ┆ rank │\n",
       "│ ---      ┆ ---           ┆ ---        ┆ ---       ┆   ┆ ---       ┆ ---   ┆ ---   ┆ ---  │\n",
       "│ str      ┆ str           ┆ str        ┆ str       ┆   ┆ str       ┆ i64   ┆ bool  ┆ i64  │\n",
       "╞══════════╪═══════════════╪════════════╪═══════════╪═══╪═══════════╪═══════╪═══════╪══════╡\n",
       "│ Abim     ┆ Labwor County ┆ Abongepach ┆ Abim      ┆ … ┆ Amuriat   ┆ 4     ┆ false ┆ 3    │\n",
       "│ Abim     ┆ Labwor County ┆ Adwal      ┆ Abim      ┆ … ┆ Amuriat   ┆ 3     ┆ false ┆ 3    │\n",
       "│ Abim     ┆ Labwor County ┆ Aninata    ┆ Abim      ┆ … ┆ Amuriat   ┆ 4     ┆ false ┆ 3    │\n",
       "│ Abim     ┆ Labwor County ┆ Arembwola  ┆ Abim      ┆ … ┆ Amuriat   ┆ 5     ┆ false ┆ 3    │\n",
       "│ Abim     ┆ Labwor County ┆ Kanu       ┆ Abim      ┆ … ┆ Amuriat   ┆ 13    ┆ false ┆ 3    │\n",
       "└──────────┴───────────────┴────────────┴───────────┴───┴───────────┴───────┴───────┴──────┘"
      ]
     },
     "execution_count": 7,
     "metadata": {},
     "output_type": "execute_result"
    }
   ],
   "source": [
    "results.parishes_long.head()"
   ]
  },
  {
   "cell_type": "code",
   "execution_count": 8,
   "id": "0de9c0fc-6c70-4b8c-a1ad-5d83c105b2e0",
   "metadata": {},
   "outputs": [
    {
     "data": {
      "text/html": [
       "<div><style>\n",
       ".dataframe > thead > tr,\n",
       ".dataframe > tbody > tr {\n",
       "  text-align: right;\n",
       "  white-space: pre-wrap;\n",
       "}\n",
       "</style>\n",
       "<small>shape: (5, 20)</small><table border=\"1\" class=\"dataframe\"><thead><tr><th>district</th><th>constituency</th><th>subcounty</th><th>Amuriat</th><th>Kabuleta</th><th>Kalembe</th><th>Katumba</th><th>Kyagulanyi</th><th>Mao</th><th>Mayambala</th><th>Muntu</th><th>Mwesigye</th><th>Tumukunde</th><th>Museveni</th><th>registered</th><th>valid</th><th>invalid</th><th>total</th><th>turnout</th><th>winner</th></tr><tr><td>str</td><td>str</td><td>str</td><td>i64</td><td>i64</td><td>i64</td><td>i64</td><td>i64</td><td>i64</td><td>i64</td><td>i64</td><td>i64</td><td>i64</td><td>i64</td><td>i64</td><td>i64</td><td>i64</td><td>i64</td><td>f64</td><td>str</td></tr></thead><tbody><tr><td>&quot;Abim&quot;</td><td>&quot;Labwor County&quot;</td><td>&quot;Abim&quot;</td><td>33</td><td>5</td><td>5</td><td>6</td><td>213</td><td>14</td><td>0</td><td>6</td><td>1</td><td>9</td><td>1170</td><td>2237</td><td>1462</td><td>71</td><td>1533</td><td>68.52928</td><td>&quot;Museveni&quot;</td></tr><tr><td>&quot;Abim&quot;</td><td>&quot;Labwor County&quot;</td><td>&quot;Abim Town Council&quot;</td><td>29</td><td>5</td><td>9</td><td>114</td><td>532</td><td>49</td><td>1</td><td>4</td><td>0</td><td>11</td><td>1213</td><td>3188</td><td>1967</td><td>75</td><td>2042</td><td>64.052698</td><td>&quot;Museveni&quot;</td></tr><tr><td>&quot;Abim&quot;</td><td>&quot;Labwor County&quot;</td><td>&quot;Abuk Town Council&quot;</td><td>14</td><td>0</td><td>1</td><td>6</td><td>58</td><td>5</td><td>0</td><td>1</td><td>3</td><td>2</td><td>376</td><td>680</td><td>466</td><td>7</td><td>473</td><td>69.558824</td><td>&quot;Museveni&quot;</td></tr><tr><td>&quot;Abim&quot;</td><td>&quot;Labwor County&quot;</td><td>&quot;Alerek&quot;</td><td>7</td><td>1</td><td>0</td><td>3</td><td>138</td><td>24</td><td>1</td><td>1</td><td>0</td><td>4</td><td>1252</td><td>2077</td><td>1431</td><td>23</td><td>1454</td><td>70.004815</td><td>&quot;Museveni&quot;</td></tr><tr><td>&quot;Abim&quot;</td><td>&quot;Labwor County&quot;</td><td>&quot;Alerek Town Council&quot;</td><td>2</td><td>2</td><td>2</td><td>1</td><td>91</td><td>13</td><td>1</td><td>0</td><td>1</td><td>2</td><td>534</td><td>1272</td><td>649</td><td>110</td><td>759</td><td>59.669811</td><td>&quot;Museveni&quot;</td></tr></tbody></table></div>"
      ],
      "text/plain": [
       "shape: (5, 20)\n",
       "┌──────────┬───────────────┬─────────────┬─────────┬───┬─────────┬───────┬───────────┬──────────┐\n",
       "│ district ┆ constituency  ┆ subcounty   ┆ Amuriat ┆ … ┆ invalid ┆ total ┆ turnout   ┆ winner   │\n",
       "│ ---      ┆ ---           ┆ ---         ┆ ---     ┆   ┆ ---     ┆ ---   ┆ ---       ┆ ---      │\n",
       "│ str      ┆ str           ┆ str         ┆ i64     ┆   ┆ i64     ┆ i64   ┆ f64       ┆ str      │\n",
       "╞══════════╪═══════════════╪═════════════╪═════════╪═══╪═════════╪═══════╪═══════════╪══════════╡\n",
       "│ Abim     ┆ Labwor County ┆ Abim        ┆ 33      ┆ … ┆ 71      ┆ 1533  ┆ 68.52928  ┆ Museveni │\n",
       "│ Abim     ┆ Labwor County ┆ Abim Town   ┆ 29      ┆ … ┆ 75      ┆ 2042  ┆ 64.052698 ┆ Museveni │\n",
       "│          ┆               ┆ Council     ┆         ┆   ┆         ┆       ┆           ┆          │\n",
       "│ Abim     ┆ Labwor County ┆ Abuk Town   ┆ 14      ┆ … ┆ 7       ┆ 473   ┆ 69.558824 ┆ Museveni │\n",
       "│          ┆               ┆ Council     ┆         ┆   ┆         ┆       ┆           ┆          │\n",
       "│ Abim     ┆ Labwor County ┆ Alerek      ┆ 7       ┆ … ┆ 23      ┆ 1454  ┆ 70.004815 ┆ Museveni │\n",
       "│ Abim     ┆ Labwor County ┆ Alerek Town ┆ 2       ┆ … ┆ 110     ┆ 759   ┆ 59.669811 ┆ Museveni │\n",
       "│          ┆               ┆ Council     ┆         ┆   ┆         ┆       ┆           ┆          │\n",
       "└──────────┴───────────────┴─────────────┴─────────┴───┴─────────┴───────┴───────────┴──────────┘"
      ]
     },
     "execution_count": 8,
     "metadata": {},
     "output_type": "execute_result"
    }
   ],
   "source": [
    "results.subcounties_wide.head()"
   ]
  },
  {
   "cell_type": "code",
   "execution_count": 9,
   "id": "56a1703a-3652-4963-bc60-67a294a2e3dc",
   "metadata": {},
   "outputs": [
    {
     "data": {
      "text/html": [
       "<div><style>\n",
       ".dataframe > thead > tr,\n",
       ".dataframe > tbody > tr {\n",
       "  text-align: right;\n",
       "  white-space: pre-wrap;\n",
       "}\n",
       "</style>\n",
       "<small>shape: (5, 12)</small><table border=\"1\" class=\"dataframe\"><thead><tr><th>district</th><th>constituency</th><th>subcounty</th><th>registered</th><th>valid</th><th>invalid</th><th>total</th><th>turnout</th><th>candidate</th><th>votes</th><th>won</th><th>rank</th></tr><tr><td>str</td><td>str</td><td>str</td><td>i64</td><td>i64</td><td>i64</td><td>i64</td><td>f64</td><td>str</td><td>i64</td><td>bool</td><td>i64</td></tr></thead><tbody><tr><td>&quot;Abim&quot;</td><td>&quot;Labwor County&quot;</td><td>&quot;Abim&quot;</td><td>2237</td><td>1462</td><td>71</td><td>1533</td><td>68.52928</td><td>&quot;Amuriat&quot;</td><td>33</td><td>false</td><td>3</td></tr><tr><td>&quot;Abim&quot;</td><td>&quot;Labwor County&quot;</td><td>&quot;Abim Town Council&quot;</td><td>3188</td><td>1967</td><td>75</td><td>2042</td><td>64.052698</td><td>&quot;Amuriat&quot;</td><td>29</td><td>false</td><td>5</td></tr><tr><td>&quot;Abim&quot;</td><td>&quot;Labwor County&quot;</td><td>&quot;Abuk Town Council&quot;</td><td>680</td><td>466</td><td>7</td><td>473</td><td>69.558824</td><td>&quot;Amuriat&quot;</td><td>14</td><td>false</td><td>3</td></tr><tr><td>&quot;Abim&quot;</td><td>&quot;Labwor County&quot;</td><td>&quot;Alerek&quot;</td><td>2077</td><td>1431</td><td>23</td><td>1454</td><td>70.004815</td><td>&quot;Amuriat&quot;</td><td>7</td><td>false</td><td>4</td></tr><tr><td>&quot;Abim&quot;</td><td>&quot;Labwor County&quot;</td><td>&quot;Alerek Town Council&quot;</td><td>1272</td><td>649</td><td>110</td><td>759</td><td>59.669811</td><td>&quot;Amuriat&quot;</td><td>2</td><td>false</td><td>4</td></tr></tbody></table></div>"
      ],
      "text/plain": [
       "shape: (5, 12)\n",
       "┌──────────┬───────────────┬───────────────────┬────────────┬───┬───────────┬───────┬───────┬──────┐\n",
       "│ district ┆ constituency  ┆ subcounty         ┆ registered ┆ … ┆ candidate ┆ votes ┆ won   ┆ rank │\n",
       "│ ---      ┆ ---           ┆ ---               ┆ ---        ┆   ┆ ---       ┆ ---   ┆ ---   ┆ ---  │\n",
       "│ str      ┆ str           ┆ str               ┆ i64        ┆   ┆ str       ┆ i64   ┆ bool  ┆ i64  │\n",
       "╞══════════╪═══════════════╪═══════════════════╪════════════╪═══╪═══════════╪═══════╪═══════╪══════╡\n",
       "│ Abim     ┆ Labwor County ┆ Abim              ┆ 2237       ┆ … ┆ Amuriat   ┆ 33    ┆ false ┆ 3    │\n",
       "│ Abim     ┆ Labwor County ┆ Abim Town Council ┆ 3188       ┆ … ┆ Amuriat   ┆ 29    ┆ false ┆ 5    │\n",
       "│ Abim     ┆ Labwor County ┆ Abuk Town Council ┆ 680        ┆ … ┆ Amuriat   ┆ 14    ┆ false ┆ 3    │\n",
       "│ Abim     ┆ Labwor County ┆ Alerek            ┆ 2077       ┆ … ┆ Amuriat   ┆ 7     ┆ false ┆ 4    │\n",
       "│ Abim     ┆ Labwor County ┆ Alerek Town       ┆ 1272       ┆ … ┆ Amuriat   ┆ 2     ┆ false ┆ 4    │\n",
       "│          ┆               ┆ Council           ┆            ┆   ┆           ┆       ┆       ┆      │\n",
       "└──────────┴───────────────┴───────────────────┴────────────┴───┴───────────┴───────┴───────┴──────┘"
      ]
     },
     "execution_count": 9,
     "metadata": {},
     "output_type": "execute_result"
    }
   ],
   "source": [
    "results.subcounties_long.head()"
   ]
  },
  {
   "cell_type": "code",
   "execution_count": 10,
   "id": "a1be86d9-ded8-4872-b034-625cc13d4186",
   "metadata": {},
   "outputs": [
    {
     "data": {
      "text/html": [
       "<div><style>\n",
       ".dataframe > thead > tr,\n",
       ".dataframe > tbody > tr {\n",
       "  text-align: right;\n",
       "  white-space: pre-wrap;\n",
       "}\n",
       "</style>\n",
       "<small>shape: (5, 19)</small><table border=\"1\" class=\"dataframe\"><thead><tr><th>district</th><th>constituency</th><th>Amuriat</th><th>Kabuleta</th><th>Kalembe</th><th>Katumba</th><th>Kyagulanyi</th><th>Mao</th><th>Mayambala</th><th>Muntu</th><th>Mwesigye</th><th>Tumukunde</th><th>Museveni</th><th>registered</th><th>valid</th><th>invalid</th><th>total</th><th>turnout</th><th>winner</th></tr><tr><td>str</td><td>str</td><td>i64</td><td>i64</td><td>i64</td><td>i64</td><td>i64</td><td>i64</td><td>i64</td><td>i64</td><td>i64</td><td>i64</td><td>i64</td><td>i64</td><td>i64</td><td>i64</td><td>i64</td><td>f64</td><td>str</td></tr></thead><tbody><tr><td>&quot;Abim&quot;</td><td>&quot;Labwor County&quot;</td><td>433</td><td>71</td><td>66</td><td>179</td><td>3956</td><td>395</td><td>35</td><td>63</td><td>41</td><td>95</td><td>18254</td><td>36539</td><td>23588</td><td>875</td><td>24463</td><td>66.950382</td><td>&quot;Museveni&quot;</td></tr><tr><td>&quot;Adjumani&quot;</td><td>&quot;Adjumani East County&quot;</td><td>297</td><td>374</td><td>99</td><td>81</td><td>2212</td><td>97</td><td>42</td><td>113</td><td>80</td><td>133</td><td>14319</td><td>27951</td><td>17847</td><td>1074</td><td>18921</td><td>67.693464</td><td>&quot;Museveni&quot;</td></tr><tr><td>&quot;Adjumani&quot;</td><td>&quot;Adjumani West County&quot;</td><td>882</td><td>336</td><td>226</td><td>117</td><td>5654</td><td>128</td><td>39</td><td>151</td><td>103</td><td>132</td><td>20806</td><td>51413</td><td>28574</td><td>1466</td><td>30040</td><td>58.428802</td><td>&quot;Museveni&quot;</td></tr><tr><td>&quot;Agago&quot;</td><td>&quot;Agago County&quot;</td><td>660</td><td>89</td><td>136</td><td>80</td><td>4091</td><td>715</td><td>63</td><td>132</td><td>84</td><td>170</td><td>22754</td><td>43528</td><td>28974</td><td>1221</td><td>30195</td><td>69.369142</td><td>&quot;Museveni&quot;</td></tr><tr><td>&quot;Agago&quot;</td><td>&quot;Agago North County&quot;</td><td>585</td><td>162</td><td>113</td><td>85</td><td>4729</td><td>701</td><td>140</td><td>191</td><td>237</td><td>157</td><td>16775</td><td>37740</td><td>23875</td><td>975</td><td>24850</td><td>65.845257</td><td>&quot;Museveni&quot;</td></tr></tbody></table></div>"
      ],
      "text/plain": [
       "shape: (5, 19)\n",
       "┌──────────┬─────────────────────┬─────────┬──────────┬───┬─────────┬───────┬───────────┬──────────┐\n",
       "│ district ┆ constituency        ┆ Amuriat ┆ Kabuleta ┆ … ┆ invalid ┆ total ┆ turnout   ┆ winner   │\n",
       "│ ---      ┆ ---                 ┆ ---     ┆ ---      ┆   ┆ ---     ┆ ---   ┆ ---       ┆ ---      │\n",
       "│ str      ┆ str                 ┆ i64     ┆ i64      ┆   ┆ i64     ┆ i64   ┆ f64       ┆ str      │\n",
       "╞══════════╪═════════════════════╪═════════╪══════════╪═══╪═════════╪═══════╪═══════════╪══════════╡\n",
       "│ Abim     ┆ Labwor County       ┆ 433     ┆ 71       ┆ … ┆ 875     ┆ 24463 ┆ 66.950382 ┆ Museveni │\n",
       "│ Adjumani ┆ Adjumani East       ┆ 297     ┆ 374      ┆ … ┆ 1074    ┆ 18921 ┆ 67.693464 ┆ Museveni │\n",
       "│          ┆ County              ┆         ┆          ┆   ┆         ┆       ┆           ┆          │\n",
       "│ Adjumani ┆ Adjumani West       ┆ 882     ┆ 336      ┆ … ┆ 1466    ┆ 30040 ┆ 58.428802 ┆ Museveni │\n",
       "│          ┆ County              ┆         ┆          ┆   ┆         ┆       ┆           ┆          │\n",
       "│ Agago    ┆ Agago County        ┆ 660     ┆ 89       ┆ … ┆ 1221    ┆ 30195 ┆ 69.369142 ┆ Museveni │\n",
       "│ Agago    ┆ Agago North County  ┆ 585     ┆ 162      ┆ … ┆ 975     ┆ 24850 ┆ 65.845257 ┆ Museveni │\n",
       "└──────────┴─────────────────────┴─────────┴──────────┴───┴─────────┴───────┴───────────┴──────────┘"
      ]
     },
     "execution_count": 10,
     "metadata": {},
     "output_type": "execute_result"
    }
   ],
   "source": [
    "results.constituencies_wide.head()"
   ]
  },
  {
   "cell_type": "code",
   "execution_count": 11,
   "id": "b720487c-3a23-436d-93de-051516986898",
   "metadata": {},
   "outputs": [
    {
     "data": {
      "text/html": [
       "<div><style>\n",
       ".dataframe > thead > tr,\n",
       ".dataframe > tbody > tr {\n",
       "  text-align: right;\n",
       "  white-space: pre-wrap;\n",
       "}\n",
       "</style>\n",
       "<small>shape: (5, 11)</small><table border=\"1\" class=\"dataframe\"><thead><tr><th>district</th><th>constituency</th><th>registered</th><th>valid</th><th>invalid</th><th>total</th><th>turnout</th><th>candidate</th><th>votes</th><th>won</th><th>rank</th></tr><tr><td>str</td><td>str</td><td>i64</td><td>i64</td><td>i64</td><td>i64</td><td>f64</td><td>str</td><td>i64</td><td>bool</td><td>i64</td></tr></thead><tbody><tr><td>&quot;Abim&quot;</td><td>&quot;Labwor County&quot;</td><td>36539</td><td>23588</td><td>875</td><td>24463</td><td>66.950382</td><td>&quot;Amuriat&quot;</td><td>433</td><td>false</td><td>3</td></tr><tr><td>&quot;Adjumani&quot;</td><td>&quot;Adjumani East County&quot;</td><td>27951</td><td>17847</td><td>1074</td><td>18921</td><td>67.693464</td><td>&quot;Amuriat&quot;</td><td>297</td><td>false</td><td>4</td></tr><tr><td>&quot;Adjumani&quot;</td><td>&quot;Adjumani West County&quot;</td><td>51413</td><td>28574</td><td>1466</td><td>30040</td><td>58.428802</td><td>&quot;Amuriat&quot;</td><td>882</td><td>false</td><td>3</td></tr><tr><td>&quot;Agago&quot;</td><td>&quot;Agago County&quot;</td><td>43528</td><td>28974</td><td>1221</td><td>30195</td><td>69.369142</td><td>&quot;Amuriat&quot;</td><td>660</td><td>false</td><td>4</td></tr><tr><td>&quot;Agago&quot;</td><td>&quot;Agago North County&quot;</td><td>37740</td><td>23875</td><td>975</td><td>24850</td><td>65.845257</td><td>&quot;Amuriat&quot;</td><td>585</td><td>false</td><td>4</td></tr></tbody></table></div>"
      ],
      "text/plain": [
       "shape: (5, 11)\n",
       "┌──────────┬──────────────────────┬────────────┬───────┬───┬───────────┬───────┬───────┬──────┐\n",
       "│ district ┆ constituency         ┆ registered ┆ valid ┆ … ┆ candidate ┆ votes ┆ won   ┆ rank │\n",
       "│ ---      ┆ ---                  ┆ ---        ┆ ---   ┆   ┆ ---       ┆ ---   ┆ ---   ┆ ---  │\n",
       "│ str      ┆ str                  ┆ i64        ┆ i64   ┆   ┆ str       ┆ i64   ┆ bool  ┆ i64  │\n",
       "╞══════════╪══════════════════════╪════════════╪═══════╪═══╪═══════════╪═══════╪═══════╪══════╡\n",
       "│ Abim     ┆ Labwor County        ┆ 36539      ┆ 23588 ┆ … ┆ Amuriat   ┆ 433   ┆ false ┆ 3    │\n",
       "│ Adjumani ┆ Adjumani East County ┆ 27951      ┆ 17847 ┆ … ┆ Amuriat   ┆ 297   ┆ false ┆ 4    │\n",
       "│ Adjumani ┆ Adjumani West County ┆ 51413      ┆ 28574 ┆ … ┆ Amuriat   ┆ 882   ┆ false ┆ 3    │\n",
       "│ Agago    ┆ Agago County         ┆ 43528      ┆ 28974 ┆ … ┆ Amuriat   ┆ 660   ┆ false ┆ 4    │\n",
       "│ Agago    ┆ Agago North County   ┆ 37740      ┆ 23875 ┆ … ┆ Amuriat   ┆ 585   ┆ false ┆ 4    │\n",
       "└──────────┴──────────────────────┴────────────┴───────┴───┴───────────┴───────┴───────┴──────┘"
      ]
     },
     "execution_count": 11,
     "metadata": {},
     "output_type": "execute_result"
    }
   ],
   "source": [
    "results.constituencies_long.head()"
   ]
  },
  {
   "cell_type": "code",
   "execution_count": 12,
   "id": "bf4fd0f6-de9d-4d48-8cbe-414681968299",
   "metadata": {},
   "outputs": [
    {
     "data": {
      "text/html": [
       "<div><style>\n",
       ".dataframe > thead > tr,\n",
       ".dataframe > tbody > tr {\n",
       "  text-align: right;\n",
       "  white-space: pre-wrap;\n",
       "}\n",
       "</style>\n",
       "<small>shape: (5, 18)</small><table border=\"1\" class=\"dataframe\"><thead><tr><th>district</th><th>Amuriat</th><th>Kabuleta</th><th>Kalembe</th><th>Katumba</th><th>Kyagulanyi</th><th>Mao</th><th>Mayambala</th><th>Muntu</th><th>Mwesigye</th><th>Tumukunde</th><th>Museveni</th><th>registered</th><th>valid</th><th>invalid</th><th>total</th><th>turnout</th><th>winner</th></tr><tr><td>str</td><td>i64</td><td>i64</td><td>i64</td><td>i64</td><td>i64</td><td>i64</td><td>i64</td><td>i64</td><td>i64</td><td>i64</td><td>i64</td><td>i64</td><td>i64</td><td>i64</td><td>i64</td><td>f64</td><td>str</td></tr></thead><tbody><tr><td>&quot;Abim&quot;</td><td>433</td><td>71</td><td>66</td><td>179</td><td>3956</td><td>395</td><td>35</td><td>63</td><td>41</td><td>95</td><td>18254</td><td>36539</td><td>23588</td><td>875</td><td>24463</td><td>66.950382</td><td>&quot;Museveni&quot;</td></tr><tr><td>&quot;Adjumani&quot;</td><td>1179</td><td>710</td><td>325</td><td>198</td><td>7866</td><td>225</td><td>81</td><td>264</td><td>183</td><td>265</td><td>35125</td><td>79364</td><td>46421</td><td>2540</td><td>48961</td><td>61.691699</td><td>&quot;Museveni&quot;</td></tr><tr><td>&quot;Agago&quot;</td><td>1595</td><td>337</td><td>299</td><td>202</td><td>10559</td><td>1834</td><td>243</td><td>407</td><td>356</td><td>433</td><td>47696</td><td>98354</td><td>63961</td><td>2572</td><td>66533</td><td>67.646461</td><td>&quot;Museveni&quot;</td></tr><tr><td>&quot;Alebtong&quot;</td><td>1920</td><td>604</td><td>425</td><td>297</td><td>16794</td><td>446</td><td>419</td><td>634</td><td>389</td><td>860</td><td>42832</td><td>115804</td><td>65620</td><td>3207</td><td>68827</td><td>59.434044</td><td>&quot;Museveni&quot;</td></tr><tr><td>&quot;Amolatar&quot;</td><td>3349</td><td>218</td><td>240</td><td>260</td><td>7185</td><td>206</td><td>134</td><td>310</td><td>289</td><td>466</td><td>38619</td><td>71173</td><td>51276</td><td>1908</td><td>53184</td><td>74.724966</td><td>&quot;Museveni&quot;</td></tr></tbody></table></div>"
      ],
      "text/plain": [
       "shape: (5, 18)\n",
       "┌──────────┬─────────┬──────────┬─────────┬───┬─────────┬───────┬───────────┬──────────┐\n",
       "│ district ┆ Amuriat ┆ Kabuleta ┆ Kalembe ┆ … ┆ invalid ┆ total ┆ turnout   ┆ winner   │\n",
       "│ ---      ┆ ---     ┆ ---      ┆ ---     ┆   ┆ ---     ┆ ---   ┆ ---       ┆ ---      │\n",
       "│ str      ┆ i64     ┆ i64      ┆ i64     ┆   ┆ i64     ┆ i64   ┆ f64       ┆ str      │\n",
       "╞══════════╪═════════╪══════════╪═════════╪═══╪═════════╪═══════╪═══════════╪══════════╡\n",
       "│ Abim     ┆ 433     ┆ 71       ┆ 66      ┆ … ┆ 875     ┆ 24463 ┆ 66.950382 ┆ Museveni │\n",
       "│ Adjumani ┆ 1179    ┆ 710      ┆ 325     ┆ … ┆ 2540    ┆ 48961 ┆ 61.691699 ┆ Museveni │\n",
       "│ Agago    ┆ 1595    ┆ 337      ┆ 299     ┆ … ┆ 2572    ┆ 66533 ┆ 67.646461 ┆ Museveni │\n",
       "│ Alebtong ┆ 1920    ┆ 604      ┆ 425     ┆ … ┆ 3207    ┆ 68827 ┆ 59.434044 ┆ Museveni │\n",
       "│ Amolatar ┆ 3349    ┆ 218      ┆ 240     ┆ … ┆ 1908    ┆ 53184 ┆ 74.724966 ┆ Museveni │\n",
       "└──────────┴─────────┴──────────┴─────────┴───┴─────────┴───────┴───────────┴──────────┘"
      ]
     },
     "execution_count": 12,
     "metadata": {},
     "output_type": "execute_result"
    }
   ],
   "source": [
    "results.districts_wide.head()"
   ]
  },
  {
   "cell_type": "code",
   "execution_count": 13,
   "id": "593cbf3b-1fe3-4284-a8b5-730c6cc5c372",
   "metadata": {},
   "outputs": [
    {
     "data": {
      "text/html": [
       "<div><style>\n",
       ".dataframe > thead > tr,\n",
       ".dataframe > tbody > tr {\n",
       "  text-align: right;\n",
       "  white-space: pre-wrap;\n",
       "}\n",
       "</style>\n",
       "<small>shape: (5, 10)</small><table border=\"1\" class=\"dataframe\"><thead><tr><th>district</th><th>registered</th><th>valid</th><th>invalid</th><th>total</th><th>turnout</th><th>candidate</th><th>votes</th><th>won</th><th>rank</th></tr><tr><td>str</td><td>i64</td><td>i64</td><td>i64</td><td>i64</td><td>f64</td><td>str</td><td>i64</td><td>bool</td><td>i64</td></tr></thead><tbody><tr><td>&quot;Abim&quot;</td><td>36539</td><td>23588</td><td>875</td><td>24463</td><td>66.950382</td><td>&quot;Amuriat&quot;</td><td>433</td><td>false</td><td>3</td></tr><tr><td>&quot;Adjumani&quot;</td><td>79364</td><td>46421</td><td>2540</td><td>48961</td><td>61.691699</td><td>&quot;Amuriat&quot;</td><td>1179</td><td>false</td><td>3</td></tr><tr><td>&quot;Agago&quot;</td><td>98354</td><td>63961</td><td>2572</td><td>66533</td><td>67.646461</td><td>&quot;Amuriat&quot;</td><td>1595</td><td>false</td><td>4</td></tr><tr><td>&quot;Alebtong&quot;</td><td>115804</td><td>65620</td><td>3207</td><td>68827</td><td>59.434044</td><td>&quot;Amuriat&quot;</td><td>1920</td><td>false</td><td>3</td></tr><tr><td>&quot;Amolatar&quot;</td><td>71173</td><td>51276</td><td>1908</td><td>53184</td><td>74.724966</td><td>&quot;Amuriat&quot;</td><td>3349</td><td>false</td><td>3</td></tr></tbody></table></div>"
      ],
      "text/plain": [
       "shape: (5, 10)\n",
       "┌──────────┬────────────┬───────┬─────────┬───┬───────────┬───────┬───────┬──────┐\n",
       "│ district ┆ registered ┆ valid ┆ invalid ┆ … ┆ candidate ┆ votes ┆ won   ┆ rank │\n",
       "│ ---      ┆ ---        ┆ ---   ┆ ---     ┆   ┆ ---       ┆ ---   ┆ ---   ┆ ---  │\n",
       "│ str      ┆ i64        ┆ i64   ┆ i64     ┆   ┆ str       ┆ i64   ┆ bool  ┆ i64  │\n",
       "╞══════════╪════════════╪═══════╪═════════╪═══╪═══════════╪═══════╪═══════╪══════╡\n",
       "│ Abim     ┆ 36539      ┆ 23588 ┆ 875     ┆ … ┆ Amuriat   ┆ 433   ┆ false ┆ 3    │\n",
       "│ Adjumani ┆ 79364      ┆ 46421 ┆ 2540    ┆ … ┆ Amuriat   ┆ 1179  ┆ false ┆ 3    │\n",
       "│ Agago    ┆ 98354      ┆ 63961 ┆ 2572    ┆ … ┆ Amuriat   ┆ 1595  ┆ false ┆ 4    │\n",
       "│ Alebtong ┆ 115804     ┆ 65620 ┆ 3207    ┆ … ┆ Amuriat   ┆ 1920  ┆ false ┆ 3    │\n",
       "│ Amolatar ┆ 71173      ┆ 51276 ┆ 1908    ┆ … ┆ Amuriat   ┆ 3349  ┆ false ┆ 3    │\n",
       "└──────────┴────────────┴───────┴─────────┴───┴───────────┴───────┴───────┴──────┘"
      ]
     },
     "execution_count": 13,
     "metadata": {},
     "output_type": "execute_result"
    }
   ],
   "source": [
    "results.districts_long.head()"
   ]
  },
  {
   "cell_type": "code",
   "execution_count": 14,
   "id": "aac635dc-93d0-4337-afaa-299925ccd211",
   "metadata": {},
   "outputs": [
    {
     "data": {
      "text/html": [
       "<div><style>\n",
       ".dataframe > thead > tr,\n",
       ".dataframe > tbody > tr {\n",
       "  text-align: right;\n",
       "  white-space: pre-wrap;\n",
       "}\n",
       "</style>\n",
       "<small>shape: (1, 17)</small><table border=\"1\" class=\"dataframe\"><thead><tr><th>Amuriat</th><th>Kabuleta</th><th>Kalembe</th><th>Katumba</th><th>Kyagulanyi</th><th>Mao</th><th>Mayambala</th><th>Muntu</th><th>Mwesigye</th><th>Tumukunde</th><th>Museveni</th><th>registered</th><th>valid</th><th>invalid</th><th>total</th><th>turnout</th><th>winner</th></tr><tr><td>i64</td><td>i64</td><td>i64</td><td>i64</td><td>i64</td><td>i64</td><td>i64</td><td>i64</td><td>i64</td><td>i64</td><td>i64</td><td>i64</td><td>i64</td><td>i64</td><td>i64</td><td>f64</td><td>str</td></tr></thead><tbody><tr><td>337589</td><td>45424</td><td>38772</td><td>37554</td><td>3631437</td><td>57682</td><td>15014</td><td>67574</td><td>25483</td><td>51392</td><td>6042898</td><td>18037787</td><td>10350819</td><td>393500</td><td>10744319</td><td>59.565616</td><td>&quot;Museveni&quot;</td></tr></tbody></table></div>"
      ],
      "text/plain": [
       "shape: (1, 17)\n",
       "┌─────────┬──────────┬─────────┬─────────┬───┬─────────┬──────────┬───────────┬──────────┐\n",
       "│ Amuriat ┆ Kabuleta ┆ Kalembe ┆ Katumba ┆ … ┆ invalid ┆ total    ┆ turnout   ┆ winner   │\n",
       "│ ---     ┆ ---      ┆ ---     ┆ ---     ┆   ┆ ---     ┆ ---      ┆ ---       ┆ ---      │\n",
       "│ i64     ┆ i64      ┆ i64     ┆ i64     ┆   ┆ i64     ┆ i64      ┆ f64       ┆ str      │\n",
       "╞═════════╪══════════╪═════════╪═════════╪═══╪═════════╪══════════╪═══════════╪══════════╡\n",
       "│ 337589  ┆ 45424    ┆ 38772   ┆ 37554   ┆ … ┆ 393500  ┆ 10744319 ┆ 59.565616 ┆ Museveni │\n",
       "└─────────┴──────────┴─────────┴─────────┴───┴─────────┴──────────┴───────────┴──────────┘"
      ]
     },
     "execution_count": 14,
     "metadata": {},
     "output_type": "execute_result"
    }
   ],
   "source": [
    "results.national_wide.head()"
   ]
  },
  {
   "cell_type": "code",
   "execution_count": 15,
   "id": "bfe4e3c6-3a63-4090-83f0-d3d5a60f7912",
   "metadata": {},
   "outputs": [
    {
     "data": {
      "text/html": [
       "<div><style>\n",
       ".dataframe > thead > tr,\n",
       ".dataframe > tbody > tr {\n",
       "  text-align: right;\n",
       "  white-space: pre-wrap;\n",
       "}\n",
       "</style>\n",
       "<small>shape: (5, 9)</small><table border=\"1\" class=\"dataframe\"><thead><tr><th>registered</th><th>valid</th><th>invalid</th><th>total</th><th>turnout</th><th>candidate</th><th>votes</th><th>won</th><th>rank</th></tr><tr><td>i64</td><td>i64</td><td>i64</td><td>i64</td><td>f64</td><td>str</td><td>i64</td><td>bool</td><td>i64</td></tr></thead><tbody><tr><td>18037787</td><td>10350819</td><td>393500</td><td>10744319</td><td>59.565616</td><td>&quot;Amuriat&quot;</td><td>337589</td><td>false</td><td>3</td></tr><tr><td>18037787</td><td>10350819</td><td>393500</td><td>10744319</td><td>59.565616</td><td>&quot;Kabuleta&quot;</td><td>45424</td><td>false</td><td>7</td></tr><tr><td>18037787</td><td>10350819</td><td>393500</td><td>10744319</td><td>59.565616</td><td>&quot;Kalembe&quot;</td><td>38772</td><td>false</td><td>8</td></tr><tr><td>18037787</td><td>10350819</td><td>393500</td><td>10744319</td><td>59.565616</td><td>&quot;Katumba&quot;</td><td>37554</td><td>false</td><td>9</td></tr><tr><td>18037787</td><td>10350819</td><td>393500</td><td>10744319</td><td>59.565616</td><td>&quot;Kyagulanyi&quot;</td><td>3631437</td><td>false</td><td>2</td></tr></tbody></table></div>"
      ],
      "text/plain": [
       "shape: (5, 9)\n",
       "┌────────────┬──────────┬─────────┬──────────┬───┬────────────┬─────────┬───────┬──────┐\n",
       "│ registered ┆ valid    ┆ invalid ┆ total    ┆ … ┆ candidate  ┆ votes   ┆ won   ┆ rank │\n",
       "│ ---        ┆ ---      ┆ ---     ┆ ---      ┆   ┆ ---        ┆ ---     ┆ ---   ┆ ---  │\n",
       "│ i64        ┆ i64      ┆ i64     ┆ i64      ┆   ┆ str        ┆ i64     ┆ bool  ┆ i64  │\n",
       "╞════════════╪══════════╪═════════╪══════════╪═══╪════════════╪═════════╪═══════╪══════╡\n",
       "│ 18037787   ┆ 10350819 ┆ 393500  ┆ 10744319 ┆ … ┆ Amuriat    ┆ 337589  ┆ false ┆ 3    │\n",
       "│ 18037787   ┆ 10350819 ┆ 393500  ┆ 10744319 ┆ … ┆ Kabuleta   ┆ 45424   ┆ false ┆ 7    │\n",
       "│ 18037787   ┆ 10350819 ┆ 393500  ┆ 10744319 ┆ … ┆ Kalembe    ┆ 38772   ┆ false ┆ 8    │\n",
       "│ 18037787   ┆ 10350819 ┆ 393500  ┆ 10744319 ┆ … ┆ Katumba    ┆ 37554   ┆ false ┆ 9    │\n",
       "│ 18037787   ┆ 10350819 ┆ 393500  ┆ 10744319 ┆ … ┆ Kyagulanyi ┆ 3631437 ┆ false ┆ 2    │\n",
       "└────────────┴──────────┴─────────┴──────────┴───┴────────────┴─────────┴───────┴──────┘"
      ]
     },
     "execution_count": 15,
     "metadata": {},
     "output_type": "execute_result"
    }
   ],
   "source": [
    "results.national_long.head()"
   ]
  }
 ],
 "metadata": {
  "kernelspec": {
   "display_name": "Python 3 (ipykernel)",
   "language": "python",
   "name": "python3"
  },
  "language_info": {
   "codemirror_mode": {
    "name": "ipython",
    "version": 3
   },
   "file_extension": ".py",
   "mimetype": "text/x-python",
   "name": "python",
   "nbconvert_exporter": "python",
   "pygments_lexer": "ipython3",
   "version": "3.13.2"
  }
 },
 "nbformat": 4,
 "nbformat_minor": 5
}
